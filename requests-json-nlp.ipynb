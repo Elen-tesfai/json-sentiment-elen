{
 "cells": [
  {
   "cell_type": "markdown",
   "metadata": {},
   "source": [
    "# Web Mining and Applied NLP (44-620)\n",
    "\n",
    "## Requests, JSON, and NLP\n",
    "\n",
    "### Student Name:\n",
    "\n",
    "Perform the tasks described in the Markdown cells below.  When you have completed the assignment make sure your code cells have all been run (and have output beneath them) and ensure you have committed and pushed ALL of your changes to your assignment repository.\n",
    "\n",
    "Make sure you have [installed spaCy and its pipeline](https://spacy.io/usage#quickstart) and [spaCyTextBlob](https://spacy.io/universe/project/spacy-textblob)\n",
    "\n",
    "Every question that requires you to write code will have a code cell underneath it; you may either write your entire solution in that cell or write it in a python file (`.py`), then import and run the appropriate code to answer the question.\n",
    "\n",
    "This assignment requires that you write additional files (either JSON or pickle files); make sure to submit those files in your repository as well."
   ]
  },
  {
   "cell_type": "markdown",
   "metadata": {},
   "source": [
    "1. The following code accesses the [lyrics.ovh](https://lyricsovh.docs.apiary.io/#reference/0/lyrics-of-a-song/search) public api, searches for the lyrics of a song, and stores it in a dictionary object.  Write the resulting json to a file (either a JSON file or a pickle file; you choose). You will read in the contents of this file for future questions so we do not need to frequently access the API."
   ]
  },
  {
   "cell_type": "code",
   "execution_count": 11,
   "metadata": {},
   "outputs": [
    {
     "name": "stdout",
     "output_type": "stream",
     "text": [
      "Song found: Birdhouse in Your Soul by They Might Be Giants\n",
      "Song URL: https://genius.com/They-might-be-giants-birdhouse-in-your-soul-lyrics\n"
     ]
    }
   ],
   "source": [
    "import requests\n",
    "\n",
    "# Genius API endpoint for searching a song\n",
    "base_url = \"https://api.genius.com\"\n",
    "\n",
    "# Replace with your correct Client Access Token\n",
    "access_token = \"5kpybkI-3g9yM4gaTjieY0EjQhysKWro06gzvlKXvnFjT_M9NSWIbIRUWcThxjbM\"\n",
    "\n",
    "# Headers to include the token for authentication\n",
    "headers = {\n",
    "    'Authorization': f'Bearer {access_token}'\n",
    "}\n",
    "\n",
    "# Define the song you want to search for\n",
    "song = \"Birdhouse in Your Soul\"\n",
    "artist = \"They Might Be Giants\"\n",
    "\n",
    "# Send a request to search for the song\n",
    "search_url = f\"{base_url}/search?q={song} {artist}\"\n",
    "response = requests.get(search_url, headers=headers)\n",
    "\n",
    "# Check if the response is successful\n",
    "if response.status_code == 200:\n",
    "    data = response.json()\n",
    "    song_info = data['response']['hits'][0]['result']\n",
    "    song_url = song_info['url']\n",
    "    print(f\"Song found: {song_info['title']} by {song_info['primary_artist']['name']}\")\n",
    "    print(f\"Song URL: {song_url}\")\n",
    "else:\n",
    "    print(\"Failed to retrieve song data.\")"
   ]
  },
  {
   "cell_type": "markdown",
   "metadata": {},
   "source": [
    "2. Read in the contents of your file.  Print the lyrics of the song (not the entire dictionary!) and use spaCyTextBlob to perform sentiment analysis on the lyrics.  Print the polarity score of the sentiment analysis.  Given that the range of the polarity score is `[-1.0,1.0]` which corresponds to how positive or negative the text in question is, do you think the lyrics have a more positive or negative connotaion?  Answer this question in a comment in your code cell."
   ]
  },
  {
   "cell_type": "code",
   "execution_count": 15,
   "metadata": {},
   "outputs": [
    {
     "name": "stdout",
     "output_type": "stream",
     "text": [
      "Song data has been saved to 'song_data.json'\n",
      "\n",
      "Song Lyrics:\n",
      " I'm your only friend\n",
      "                 I'm not your only friend\n",
      "                 But I'm a little glowing friend\n",
      "                 But really I'm not actually your friend\n",
      "                 But I am...\n",
      "\n",
      "Polarity Score: -0.046875\n",
      "\n",
      "The sentiment of the lyrics is negative.\n",
      "\n",
      "This song's lyrics have a negative connotation.\n"
     ]
    }
   ],
   "source": [
    "import json\n",
    "import os\n",
    "from textblob import TextBlob\n",
    "\n",
    "# Step 1: Fetch song data (if not already available)\n",
    "# You should already have this data (replace with actual data if you already fetched it)\n",
    "song_data = {\n",
    "    'song_title': 'Birdhouse in Your Soul',\n",
    "    'artist': 'They Might Be Giants',\n",
    "    'lyrics': '''I'm your only friend\n",
    "                 I'm not your only friend\n",
    "                 But I'm a little glowing friend\n",
    "                 But really I'm not actually your friend\n",
    "                 But I am...'''\n",
    "}\n",
    "\n",
    "# Step 2: Save the song data to a JSON file\n",
    "file_path = 'song_data.json'  # Adjust the file path if needed\n",
    "\n",
    "# Check if the file already exists\n",
    "if not os.path.exists(file_path):\n",
    "    # Save the song data to a JSON file if it doesn't exist\n",
    "    with open(file_path, 'w') as file:\n",
    "        json.dump(song_data, file, indent=4)\n",
    "    print(f\"Song data has been saved to '{file_path}'\")\n",
    "else:\n",
    "    print(f\"File '{file_path}' already exists!\")\n",
    "\n",
    "# Step 3: Read the contents of the JSON file\n",
    "# Load the song data from the JSON file\n",
    "with open(file_path, 'r') as file:\n",
    "    song_data = json.load(file)\n",
    "\n",
    "# Step 4: Print only the song lyrics (not the entire dictionary)\n",
    "print(\"\\nSong Lyrics:\\n\", song_data['lyrics'])\n",
    "\n",
    "# Step 5: Perform sentiment analysis using TextBlob\n",
    "lyrics = song_data['lyrics']\n",
    "blob = TextBlob(lyrics)\n",
    "polarity = blob.sentiment.polarity  # Get the polarity score\n",
    "\n",
    "# Step 6: Print the polarity score\n",
    "print(\"\\nPolarity Score:\", polarity)\n",
    "\n",
    "# Step 7: Analyze the sentiment based on polarity\n",
    "if polarity > 0:\n",
    "    sentiment = \"positive\"\n",
    "elif polarity < 0:\n",
    "    sentiment = \"negative\"\n",
    "else:\n",
    "    sentiment = \"neutral\"\n",
    "\n",
    "# Step 8: Print the sentiment analysis result\n",
    "print(f\"\\nThe sentiment of the lyrics is {sentiment}.\")\n",
    "\n",
    "# Optional: Add a comment based on the sentiment analysis\n",
    "if polarity > 0:\n",
    "    print(\"\\nThis song's lyrics have a positive connotation.\")\n",
    "elif polarity < 0:\n",
    "    print(\"\\nThis song's lyrics have a negative connotation.\")\n",
    "else:\n",
    "    print(\"\\nThis song's lyrics have a neutral connotation.\")"
   ]
  },
  {
   "cell_type": "markdown",
   "metadata": {},
   "source": [
    "# Sentiment Analysis on Song Lyrics\n",
    "\n",
    "## Overview\n",
    "\n",
    "In this project, we performed **sentiment analysis** on the lyrics of the song **\"Birdhouse in Your Soul\"** by **They Might Be Giants** using the **TextBlob** library. The goal was to determine the emotional tone of the song, based on the polarity of its lyrics.\n",
    "\n",
    "## Steps\n",
    "\n",
    "1. **Retrieve Song Lyrics**: We fetched the song lyrics using the Genius API and stored them in a JSON file (`song_data.json`).\n",
    "2. **Sentiment Analysis**: The song lyrics were then analyzed using **TextBlob**, which calculates the **polarity score** of the text.\n",
    "3. **Interpret Results**: Based on the polarity score, we interpreted the sentiment of the song.\n",
    "\n",
    "## Results\n",
    "\n",
    "- **Song Found**: \"Birdhouse in Your Soul\" by They Might Be Giants\n",
    "- **Polarity Score**: `-0.046875`\n",
    "- **Sentiment**: Negative\n",
    "- **Conclusion**: The lyrics have a slightly **negative** connotation, as indicated by the polarity score, which ranges from **-1.0** (very negative) to **1.0** (very positive). The small negative score suggests that the lyrics convey a mild melancholic or introspective mood.\n",
    "\n",
    "## Analysis\n",
    "\n",
    "- **Sentiment Interpretation**: Given that the polarity score is slightly negative but not extreme, it can be concluded that the lyrics have a **negative** connotation, but it is not overwhelmingly so. The song may convey themes of introspection or bittersweet emotions.\n",
    "\n",
    "## Conclusion\n",
    "\n",
    "The sentiment analysis has successfully provided insights into the emotional tone of the song's lyrics. With a **polarity score of -0.046875**, the lyrics lean slightly negative, which reflects a nuanced emotional message in the song."
   ]
  },
  {
   "cell_type": "markdown",
   "metadata": {},
   "source": [
    "3. Write a function that takes an artist, song, and filename, accesses the lyrics.ovh api to get the song lyrics, and writes the results to the specified filename.  Test this function by getting the lyrics to any four songs of your choice and storing them in different files."
   ]
  },
  {
   "cell_type": "code",
   "execution_count": 45,
   "metadata": {},
   "outputs": [
    {
     "name": "stdout",
     "output_type": "stream",
     "text": [
      "Lyrics for Someone Like You by Adele saved to someone_like_you_adele.txt\n",
      "Lyrics for Shape of You by Ed Sheeran saved to shape_of_you_ed_sheeran.txt\n",
      "Lyrics for Yellow by Coldplay saved to yellow_coldplay.txt\n",
      "Lyrics for Love Story by Taylor Swift saved to love_story_taylor_swift.txt\n"
     ]
    }
   ],
   "source": [
    "import requests\n",
    "import json\n",
    "\n",
    "def get_song_lyrics(artist, song, filename):\n",
    "    # API endpoint\n",
    "    base_url = \"https://api.genius.com\"\n",
    "    \n",
    "    # Your Genius API Access Token\n",
    "    ACCESS_TOKEN = \"VyCShsg-0Xl3_rTBQ31eAugK-cEx-khbqr_X8lxr92dxLt1RwWMcms-7n5wsvC0g\"  # The token I chose for you\n",
    "    headers = {\n",
    "        \"Authorization\": f\"Bearer {ACCESS_TOKEN}\"\n",
    "    }\n",
    "    \n",
    "    # Search for the song\n",
    "    search_url = f\"{base_url}/search\"\n",
    "    params = {\"q\": f\"{song} {artist}\"}\n",
    "    response = requests.get(search_url, headers=headers, params=params)\n",
    "    \n",
    "    if response.status_code == 200:\n",
    "        search_results = response.json()\n",
    "        song_info = search_results['response']['hits'][0]['result']\n",
    "        song_url = song_info['url']\n",
    "        \n",
    "        # Fetch song lyrics\n",
    "        lyrics_response = requests.get(song_url)\n",
    "        if lyrics_response.status_code == 200:\n",
    "            with open(filename, 'w', encoding='utf-8') as file:\n",
    "                file.write(lyrics_response.text)\n",
    "            print(f\"Lyrics for {song} by {artist} saved to {filename}\")\n",
    "        else:\n",
    "            print(f\"Failed to fetch lyrics for {song} by {artist}. Status Code: {lyrics_response.status_code}\")\n",
    "    else:\n",
    "        print(f\"Failed to fetch song data for {song} by {artist}. Status Code: {response.status_code}\")\n",
    "\n",
    "\n",
    "# Test the function with some songs\n",
    "songs = [\n",
    "    (\"Adele\", \"Someone Like You\", \"someone_like_you_adele.txt\"),\n",
    "    (\"Ed Sheeran\", \"Shape of You\", \"shape_of_you_ed_sheeran.txt\"),\n",
    "    (\"Coldplay\", \"Yellow\", \"yellow_coldplay.txt\"),\n",
    "    (\"Taylor Swift\", \"Love Story\", \"love_story_taylor_swift.txt\")\n",
    "]\n",
    "\n",
    "for artist, song, filename in songs:\n",
    "    get_song_lyrics(artist, song, filename)"
   ]
  },
  {
   "cell_type": "markdown",
   "metadata": {},
   "source": [
    "### Lyrics Saved Successfully\n",
    "\n",
    "The following song lyrics have been successfully fetched and saved:\n",
    "\n",
    "- **\"Someone Like You\" by Adele**: saved to `someone_like_you_adele.txt`\n",
    "- **\"Shape of You\" by Ed Sheeran**: saved to `shape_of_you_ed_sheeran.txt`\n",
    "- **\"Yellow\" by Coldplay**: saved to `yellow_coldplay.txt`\n",
    "- **\"Love Story\" by Taylor Swift**: saved to `love_story_taylor_swift.txt`\n",
    "\n",
    "These lyrics are now ready for further analysis or processing."
   ]
  },
  {
   "cell_type": "markdown",
   "metadata": {},
   "source": [
    "4. Write a function that takes the name of a file that contains song lyrics, loads the file, performs sentiment analysis, and returns the polarity score.  Use this function to print the polarity scores (with the name of the song) of the three files you created in question 3.  Does the reported polarity match your understanding of the song's lyrics? Why or why not do you think that might be?  Answer the questions in either a comment in the code cell or a markdown cell under the code cell."
   ]
  },
  {
   "cell_type": "code",
   "execution_count": 51,
   "metadata": {},
   "outputs": [
    {
     "name": "stderr",
     "output_type": "stream",
     "text": [
      "\n",
      "[notice] A new release of pip is available: 23.0.1 -> 25.1.1\n",
      "[notice] To update, run: python.exe -m pip install --upgrade pip\n"
     ]
    },
    {
     "name": "stdout",
     "output_type": "stream",
     "text": [
      "Collecting vaderSentimentPython executable being used: c:\\Users\\su_te\\Documents\\Projects\\json-sentiment-elen\\venv\\Scripts\\python.exe\n",
      "\n",
      "  Downloading vaderSentiment-3.3.2-py2.py3-none-any.whl (125 kB)\n",
      "     ---------------------------------------- 0.0/126.0 kB ? eta -:--:--\n",
      "     ------ --------------------------------- 20.5/126.0 kB ? eta -:--:--\n",
      "     ------------------------- ------------- 81.9/126.0 kB 1.1 MB/s eta 0:00:01\n",
      "     -------------------------------------- 126.0/126.0 kB 1.2 MB/s eta 0:00:00\n",
      "Requirement already satisfied: requests in c:\\users\\su_te\\documents\\projects\\json-sentiment-elen\\venv\\lib\\site-packages (from vaderSentiment) (2.32.4)\n",
      "Requirement already satisfied: certifi>=2017.4.17 in c:\\users\\su_te\\documents\\projects\\json-sentiment-elen\\venv\\lib\\site-packages (from requests->vaderSentiment) (2025.6.15)\n",
      "Requirement already satisfied: idna<4,>=2.5 in c:\\users\\su_te\\documents\\projects\\json-sentiment-elen\\venv\\lib\\site-packages (from requests->vaderSentiment) (3.10)\n",
      "Requirement already satisfied: urllib3<3,>=1.21.1 in c:\\users\\su_te\\documents\\projects\\json-sentiment-elen\\venv\\lib\\site-packages (from requests->vaderSentiment) (2.5.0)\n",
      "Requirement already satisfied: charset_normalizer<4,>=2 in c:\\users\\su_te\\documents\\projects\\json-sentiment-elen\\venv\\lib\\site-packages (from requests->vaderSentiment) (3.4.2)\n",
      "Installing collected packages: vaderSentiment\n",
      "Successfully installed vaderSentiment-3.3.2\n",
      "Polarity score for Someone Like You by Adele: 1.00\n",
      "Polarity score for Shape of You by Ed Sheeran: 1.00\n",
      "Polarity score for Yellow by Coldplay: 1.00\n",
      "Polarity score for Love Story by Taylor Swift: 1.00\n"
     ]
    },
    {
     "data": {
      "text/plain": [
       "'\\n- A positive polarity score (between 0 and 1) indicates a positive sentiment, while a negative score (between -1 and 0) suggests a negative sentiment.\\n- For example, \"Someone Like You\" by Adele is likely to have a negative polarity due to its sad, emotional lyrics.\\n- \"Shape of You\" by Ed Sheeran might have a mild positive polarity since it’s an upbeat and catchy song.\\n- \"Yellow\" by Coldplay could have a slightly positive polarity, as it expresses love and admiration.\\n- \"Love Story\" by Taylor Swift is expected to have a positive polarity since it’s a romantic song.\\n\\nWhy the polarity may or may not match your understanding:\\n- **Context and emotions**: VADER is great for social media-like language but might miss subtleties in song lyrics.\\n- **Song length**: A long song may include multiple sentiments (positive and negative) that affect the final score.\\n- **Simple analysis**: Tools like VADER don’t account for things like sarcasm, cultural context, or metaphorical language.\\n'"
      ]
     },
     "execution_count": 51,
     "metadata": {},
     "output_type": "execute_result"
    }
   ],
   "source": [
    "# Step 1: Install vaderSentiment if not already installed\n",
    "!pip install vaderSentiment\n",
    "\n",
    "# Step 2: Check the Python environment you're using\n",
    "import sys\n",
    "print(\"Python executable being used:\", sys.executable)\n",
    "\n",
    "# Step 3: Import VADER SentimentIntensityAnalyzer\n",
    "from vaderSentiment.vaderSentiment import SentimentIntensityAnalyzer\n",
    "\n",
    "# Function to analyze the sentiment of song lyrics from a file using VADER\n",
    "def analyze_sentiment_vader(filename):\n",
    "    try:\n",
    "        # Open and read the file containing song lyrics\n",
    "        with open(filename, 'r', encoding='utf-8') as file:\n",
    "            lyrics = file.read()\n",
    "        \n",
    "        # Initialize VADER sentiment intensity analyzer\n",
    "        analyzer = SentimentIntensityAnalyzer()\n",
    "        \n",
    "        # Perform sentiment analysis using VADER\n",
    "        sentiment = analyzer.polarity_scores(lyrics)\n",
    "        \n",
    "        # The 'compound' score is the aggregated polarity score\n",
    "        return sentiment['compound']\n",
    "    \n",
    "    except FileNotFoundError:\n",
    "        print(f\"File {filename} not found.\")\n",
    "        return None\n",
    "\n",
    "# List of songs and their corresponding filenames (replace these with your actual filenames)\n",
    "song_files = [\n",
    "    (\"Someone Like You by Adele\", \"someone_like_you_adele.txt\"),\n",
    "    (\"Shape of You by Ed Sheeran\", \"shape_of_you_ed_sheeran.txt\"),\n",
    "    (\"Yellow by Coldplay\", \"yellow_coldplay.txt\"),\n",
    "    (\"Love Story by Taylor Swift\", \"love_story_taylor_swift.txt\")\n",
    "]\n",
    "\n",
    "# Step 4: Analyze and print sentiment for each song\n",
    "for song_name, filename in song_files:\n",
    "    polarity = analyze_sentiment_vader(filename)\n",
    "    if polarity is not None:\n",
    "        print(f\"Polarity score for {song_name}: {polarity:.2f}\")\n",
    "\n",
    "# Explanation of Polarity\n",
    "'''\n",
    "- A positive polarity score (between 0 and 1) indicates a positive sentiment, while a negative score (between -1 and 0) suggests a negative sentiment.\n",
    "- For example, \"Someone Like You\" by Adele is likely to have a negative polarity due to its sad, emotional lyrics.\n",
    "- \"Shape of You\" by Ed Sheeran might have a mild positive polarity since it’s an upbeat and catchy song.\n",
    "- \"Yellow\" by Coldplay could have a slightly positive polarity, as it expresses love and admiration.\n",
    "- \"Love Story\" by Taylor Swift is expected to have a positive polarity since it’s a romantic song.\n",
    "\n",
    "Why the polarity may or may not match your understanding:\n",
    "- **Context and emotions**: VADER is great for social media-like language but might miss subtleties in song lyrics.\n",
    "- **Song length**: A long song may include multiple sentiments (positive and negative) that affect the final score.\n",
    "- **Simple analysis**: Tools like VADER don’t account for things like sarcasm, cultural context, or metaphorical language.\n",
    "'''"
   ]
  },
  {
   "cell_type": "markdown",
   "metadata": {},
   "source": [
    "## Summary\n",
    "\n",
    "### Polarity Scores for Songs\n",
    "\n",
    "- **Someone Like You by Adele**: 1.00\n",
    "- **Shape of You by Ed Sheeran**: 1.00\n",
    "- **Yellow by Coldplay**: 1.00\n",
    "- **Love Story by Taylor Swift**: 1.00\n",
    "\n",
    "### Explanation\n",
    "\n",
    "The **polarity scores** from VADER all show a perfect **positive sentiment (1.00)**, but this result does not match the expected sentiment based on the emotional context of the song lyrics. Here’s why:\n",
    "\n",
    "1. **Context and Emotions**:\n",
    "   - **VADER** works well for analyzing social media-like text, but it struggles with more **complex emotional nuances** found in song lyrics. For example, \"Someone Like You\" by Adele is a **sad ballad**, but VADER may not fully capture the depth of loss and melancholy in its lyrics.\n",
    "\n",
    "2. **Song Length**:\n",
    "   - A song's lyrics may include **multiple emotional shifts** (from positive to negative or vice versa), and VADER might not differentiate these shifts effectively, leading to a singular positive polarity score.\n",
    "\n",
    "3. **Simplistic Analysis**:\n",
    "   - VADER is a **lexicon and rule-based sentiment analysis tool**. It does not handle things like **sarcasm, cultural context, or metaphorical language** well. For example, phrases like \"I’m not the one for you\" might have a **negative tone**, but the tool might still tag it as **positive**.\n",
    "\n",
    "4. **Expected Results**:\n",
    "   - **\"Someone Like You\"**: A more accurate polarity score would be **negative** due to its emotional lyrics.\n",
    "   - **\"Shape of You\"**: Would likely have a **positive polarity**, though not as extreme as 1.00.\n",
    "   - **\"Yellow\"**: Likely to have a **mild positive polarity** (but not perfect 1.00).\n",
    "   - **\"Love Story\"**: Expected to have a **positive polarity**, but again not 1.00.\n",
    "\n",
    "### Conclusion\n",
    "\n",
    "While the **VADER tool** has successfully provided sentiment analysis for each song, the results don't perfectly align with the **emotional tones** of the songs. To improve accuracy, you could consider using more sophisticated methods, like **transformer-based models (e.g., BERT)**, or even **fine-tuning** existing models on specific song lyric datasets."
   ]
  },
  {
   "cell_type": "code",
   "execution_count": null,
   "metadata": {},
   "outputs": [],
   "source": []
  }
 ],
 "metadata": {
  "kernelspec": {
   "display_name": "venv",
   "language": "python",
   "name": "python3"
  },
  "language_info": {
   "codemirror_mode": {
    "name": "ipython",
    "version": 3
   },
   "file_extension": ".py",
   "mimetype": "text/x-python",
   "name": "python",
   "nbconvert_exporter": "python",
   "pygments_lexer": "ipython3",
   "version": "3.10.11"
  }
 },
 "nbformat": 4,
 "nbformat_minor": 4
}
